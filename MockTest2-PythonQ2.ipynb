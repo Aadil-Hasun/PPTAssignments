{
 "cells": [
  {
   "cell_type": "markdown",
   "id": "c3e0f94b",
   "metadata": {},
   "source": [
    "## You are given two non-empty linked lists representing two non-negative integers. The digits are stored in reverse order, and each of their nodes contains a single digit. Add the two numbers and return the sum as a linked list. You may assume the two numbers do not contain any leading zero, except the number 0 itself.\n",
    "\n",
    "\n",
    "### Example 1:\n",
    "\n",
    "### Input: l1 = [2,4,3], l2 = [5,6,4] Output: [7,0,8] Explanation: 342 + 465 = 807.\n",
    "\n",
    "### Example 2:\n",
    "\n",
    "### Input: l1 = [0], l2 = [0] Output: [0]\n",
    "\n",
    "### Example 3:\n",
    "\n",
    "### Input: l1 = [9,9,9,9,9,9,9], l2 = [9,9,9,9] Output: [8,9,9,9,0,0,0,1]\n",
    "\n",
    "### Constraints:\n",
    "\n",
    "### The number of nodes in each linked list is in the range [1, 100]. 0 <= Node.val <= 9 It is guaranteed that the list represents a number that does not have leading zeros.\n",
    "\n"
   ]
  },
  {
   "cell_type": "code",
   "execution_count": 1,
   "id": "defb5f41",
   "metadata": {},
   "outputs": [
    {
     "name": "stdout",
     "output_type": "stream",
     "text": [
      "[7, 0, 8]\n",
      "[0]\n",
      "[8, 9, 9, 9, 0, 0, 0, 1]\n"
     ]
    }
   ],
   "source": [
    "class ListNode:\n",
    "    def __init__(self, val=0, next=None):\n",
    "        self.val = val\n",
    "        self.next = next\n",
    "\n",
    "def addTwoNumbers(l1, l2):\n",
    "    dummy = ListNode(0)  # head\n",
    "    curr = dummy  # Pointer to traverse the result list\n",
    "    carry = 0  # Carry value for addition\n",
    "\n",
    "    while l1 or l2:\n",
    "        # Get the values of the current nodes or 0 if the nodes are None\n",
    "        val1 = l1.val if l1 else 0\n",
    "        val2 = l2.val if l2 else 0\n",
    "\n",
    "        # Calculate the sum of the digits and the carry\n",
    "        total = val1 + val2 + carry\n",
    "        carry = total // 10\n",
    "        digit = total % 10\n",
    "\n",
    "        # Create a new node with the sum digit and append it to the result list\n",
    "        curr.next = ListNode(digit)\n",
    "        curr = curr.next\n",
    "\n",
    "        # Move to the next nodes in the input lists\n",
    "        if l1:\n",
    "            l1 = l1.next\n",
    "        if l2:\n",
    "            l2 = l2.next\n",
    "\n",
    "    # Check if there is a remaining carry\n",
    "    if carry > 0:\n",
    "        curr.next = ListNode(carry)\n",
    "\n",
    "    return dummy.next  # Return the head of the result list\n",
    "\n",
    "# Helper function to convert a list to a linked list\n",
    "def listToLinkedList(nums):\n",
    "    dummy = ListNode(0)\n",
    "    curr = dummy\n",
    "    for num in nums:\n",
    "        curr.next = ListNode(num)\n",
    "        curr = curr.next\n",
    "    return dummy.next\n",
    "\n",
    "# Helper function to convert a linked list to a list\n",
    "def linkedListToList(head):\n",
    "    nums = []\n",
    "    curr = head\n",
    "    while curr:\n",
    "        nums.append(curr.val)\n",
    "        curr = curr.next\n",
    "    return nums\n",
    "\n",
    "# Test cases\n",
    "l1 = listToLinkedList([2, 4, 3])\n",
    "l2 = listToLinkedList([5, 6, 4])\n",
    "result = addTwoNumbers(l1, l2)\n",
    "print(linkedListToList(result))  # Output: [7, 0, 8]\n",
    "\n",
    "l1 = listToLinkedList([0])\n",
    "l2 = listToLinkedList([0])\n",
    "result = addTwoNumbers(l1, l2)\n",
    "print(linkedListToList(result))  # Output: [0]\n",
    "\n",
    "l1 = listToLinkedList([9, 9, 9, 9, 9, 9, 9])\n",
    "l2 = listToLinkedList([9, 9, 9, 9])\n",
    "result = addTwoNumbers(l1, l2)\n",
    "print(linkedListToList(result))  # Output: [8, 9, 9, 9, 0, 0, 0, 1]\n"
   ]
  },
  {
   "cell_type": "code",
   "execution_count": null,
   "id": "9ac9e989",
   "metadata": {},
   "outputs": [],
   "source": []
  }
 ],
 "metadata": {
  "kernelspec": {
   "display_name": "Python 3 (ipykernel)",
   "language": "python",
   "name": "python3"
  },
  "language_info": {
   "codemirror_mode": {
    "name": "ipython",
    "version": 3
   },
   "file_extension": ".py",
   "mimetype": "text/x-python",
   "name": "python",
   "nbconvert_exporter": "python",
   "pygments_lexer": "ipython3",
   "version": "3.9.13"
  }
 },
 "nbformat": 4,
 "nbformat_minor": 5
}
